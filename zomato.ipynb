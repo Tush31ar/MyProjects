{
  "nbformat": 4,
  "nbformat_minor": 0,
  "metadata": {
    "colab": {
      "provenance": [],
      "collapsed_sections": []
    },
    "kernelspec": {
      "name": "python3",
      "display_name": "Python 3"
    },
    "language_info": {
      "name": "python"
    }
  },
  "cells": [
    {
      "cell_type": "code",
      "execution_count": null,
      "metadata": {
        "id": "lnpYGeibbHyh"
      },
      "outputs": [],
      "source": [
        "import pandas as pd\n",
        "import numpy as np"
      ]
    },
    {
      "cell_type": "code",
      "source": [
        "df=pd.read_csv(\"zomato.csv\",error_bad_lines=False, engine=\"python\")\n"
      ],
      "metadata": {
        "id": "drnkEK0UdaTR"
      },
      "execution_count": null,
      "outputs": []
    },
    {
      "cell_type": "code",
      "source": [
        "df.head()"
      ],
      "metadata": {
        "id": "qow237SlePKn"
      },
      "execution_count": null,
      "outputs": []
    },
    {
      "cell_type": "code",
      "source": [
        "df.columns"
      ],
      "metadata": {
        "id": "jX16AST7eWj2"
      },
      "execution_count": null,
      "outputs": []
    },
    {
      "cell_type": "code",
      "source": [
        "df=df.drop(['url', 'address','phone','reviews_list', 'dish_liked','menu_item'],axis=1)\n"
      ],
      "metadata": {
        "id": "QbfvUbgKecou"
      },
      "execution_count": null,
      "outputs": []
    },
    {
      "cell_type": "code",
      "source": [
        "df.head()"
      ],
      "metadata": {
        "id": "UHz7nVZmgYwy"
      },
      "execution_count": null,
      "outputs": []
    },
    {
      "cell_type": "code",
      "source": [
        "df.info()"
      ],
      "metadata": {
        "id": "dirG9EvDgfi6"
      },
      "execution_count": null,
      "outputs": []
    },
    {
      "cell_type": "code",
      "source": [
        "df.shape"
      ],
      "metadata": {
        "colab": {
          "base_uri": "https://localhost:8080/"
        },
        "id": "OBlJk-tpgoE7",
        "outputId": "5b20a99c-f406-4339-96a0-408c3e7a897a"
      },
      "execution_count": null,
      "outputs": [
        {
          "output_type": "execute_result",
          "data": {
            "text/plain": [
              "(4575, 11)"
            ]
          },
          "metadata": {},
          "execution_count": 25
        }
      ]
    },
    {
      "cell_type": "code",
      "source": [
        "df.drop_duplicates()\n"
      ],
      "metadata": {
        "id": "uljB8OeYhNM9"
      },
      "execution_count": null,
      "outputs": []
    },
    {
      "cell_type": "code",
      "source": [
        "df.shape"
      ],
      "metadata": {
        "colab": {
          "base_uri": "https://localhost:8080/"
        },
        "id": "9WYhMZaghXFG",
        "outputId": "06d9225a-624b-4774-f750-3270f06f74d8"
      },
      "execution_count": null,
      "outputs": [
        {
          "output_type": "execute_result",
          "data": {
            "text/plain": [
              "(4575, 11)"
            ]
          },
          "metadata": {},
          "execution_count": 29
        }
      ]
    },
    {
      "cell_type": "code",
      "source": [
        "\n",
        "#first we want to clean the rate column\n",
        "df['rate'].unique()"
      ],
      "metadata": {
        "id": "F7X-nI_2hc5f"
      },
      "execution_count": null,
      "outputs": []
    },
    {
      "cell_type": "code",
      "source": [
        "def handlerate(value):\n",
        "    if(value=='NEW' or value=='-'):\n",
        "        return np.nan\n",
        "    else:\n",
        "        value = str(value).split('/')\n",
        "        value = value[0]\n",
        "        return float(value)\n",
        "    \n",
        "df['rate'] = df['rate'].apply(handlerate)\n",
        "df['rate'].head()"
      ],
      "metadata": {
        "id": "mytpzFewkeuU"
      },
      "execution_count": null,
      "outputs": []
    },
    {
      "cell_type": "code",
      "source": [
        "df['rate'].isnull().sum()"
      ],
      "metadata": {
        "colab": {
          "base_uri": "https://localhost:8080/"
        },
        "id": "nxWo1LOHjSB3",
        "outputId": "45ca8faa-c2fc-4a29-aa12-754e4c0b4830"
      },
      "execution_count": null,
      "outputs": [
        {
          "output_type": "execute_result",
          "data": {
            "text/plain": [
              "0"
            ]
          },
          "metadata": {},
          "execution_count": 57
        }
      ]
    },
    {
      "cell_type": "code",
      "source": [
        "df['rate'].fillna(df['rate'].mean(),inplace=True)"
      ],
      "metadata": {
        "id": "BPRTEX7AlPF9"
      },
      "execution_count": null,
      "outputs": []
    },
    {
      "cell_type": "code",
      "source": [
        "df.info()"
      ],
      "metadata": {
        "id": "FW9GE0jclsAg"
      },
      "execution_count": null,
      "outputs": []
    },
    {
      "cell_type": "code",
      "source": [
        "df.dropna(inplace=True)"
      ],
      "metadata": {
        "id": "3iMMsdDyl1ke"
      },
      "execution_count": null,
      "outputs": []
    },
    {
      "cell_type": "code",
      "source": [
        "df.rename(columns = {'approx_cost(for two people)':'Cost2plates', 'listed_in(type)':'Type'}, inplace = True)\n",
        "df.head()"
      ],
      "metadata": {
        "id": "dt61lG14mIH4"
      },
      "execution_count": null,
      "outputs": []
    },
    {
      "cell_type": "code",
      "source": [
        "df['location'].unique()"
      ],
      "metadata": {
        "id": "ykrAPH3tmis3"
      },
      "execution_count": null,
      "outputs": []
    },
    {
      "cell_type": "code",
      "source": [
        "df=df.drop(['listed_in(city)'],axis=1)"
      ],
      "metadata": {
        "id": "hpN-GTBxmIMi"
      },
      "execution_count": null,
      "outputs": []
    },
    {
      "cell_type": "code",
      "source": [
        "df.head()"
      ],
      "metadata": {
        "id": "gTtYvK-PnY-1"
      },
      "execution_count": null,
      "outputs": []
    },
    {
      "cell_type": "code",
      "source": [
        "rest_types=df['rest_type'].value_counts(ascending=False)"
      ],
      "metadata": {
        "id": "4UOftQ4ant4E"
      },
      "execution_count": null,
      "outputs": []
    },
    {
      "cell_type": "code",
      "source": [
        "rest_types_lessthan200 = rest_types[rest_types<200]\n",
        "rest_types_lessthan200"
      ],
      "metadata": {
        "id": "0e5gR5Vroziv"
      },
      "execution_count": null,
      "outputs": []
    },
    {
      "cell_type": "code",
      "source": [
        "def handle_rest_type(value):\n",
        "  if(value in rest_types_lessthan200):\n",
        "    return 'others'\n",
        "  else:\n",
        "    return value\n",
        "\n",
        "df['rest_type']=df['rest_type'].apply(handle_rest_type)\n",
        "df['rest_type'].value_counts()"
      ],
      "metadata": {
        "id": "jg5K6OMlo-BX"
      },
      "execution_count": null,
      "outputs": []
    },
    {
      "cell_type": "code",
      "source": [
        "df['Cost2plates'].unique()"
      ],
      "metadata": {
        "id": "jZuH0XooqOWr"
      },
      "execution_count": null,
      "outputs": []
    },
    {
      "cell_type": "code",
      "source": [
        "def handlecomma(value):\n",
        "    value = str(value)\n",
        "    if ',' in value:\n",
        "        value = value.replace(',', '')\n",
        "        return float(value)\n",
        "    else:\n",
        "        return float(value)\n",
        "    \n",
        "df['Cost2plates'] = df['Cost2plates'].apply(handlecomma)\n",
        "df['Cost2plates'].unique()"
      ],
      "metadata": {
        "id": "o044NUZtr3zO"
      },
      "execution_count": null,
      "outputs": []
    },
    {
      "cell_type": "code",
      "source": [
        "locations=df['location'].value_counts()\n",
        "loc_less300=locations[locations < 300]\n",
        "loc_less300"
      ],
      "metadata": {
        "id": "D5vCwy75sRKf"
      },
      "execution_count": null,
      "outputs": []
    },
    {
      "cell_type": "code",
      "source": [
        "def handleloc(value):\n",
        "  if(value in loc_less300):\n",
        "    return 'others'\n",
        "  else:\n",
        "    return value\n",
        "\n",
        "df['location']=df['location'].apply(handleloc)\n",
        "df['location'].value_counts()"
      ],
      "metadata": {
        "id": "ontuQGxhspZB"
      },
      "execution_count": null,
      "outputs": []
    },
    {
      "cell_type": "code",
      "source": [
        "cuisines = df['cuisines'].value_counts(ascending  = False)\n",
        "\n",
        "\n",
        "cuisines_lessthan100 = cuisines[cuisines<100]\n",
        "\n",
        "\n",
        "\n",
        "def handle_cuisines(value):\n",
        "    if(value in cuisines_lessthan100):\n",
        "        return 'others'\n",
        "    else:\n",
        "        return value\n",
        "        \n",
        "df['cuisines'] = df['cuisines'].apply(handle_cuisines)\n",
        "df['cuisines'].value_counts()"
      ],
      "metadata": {
        "id": "x46KzkrjtR3x"
      },
      "execution_count": null,
      "outputs": []
    },
    {
      "cell_type": "code",
      "source": [
        "#now we have a clean data\n",
        "df.head()"
      ],
      "metadata": {
        "id": "xwyxcA75tcW5"
      },
      "execution_count": null,
      "outputs": []
    },
    {
      "cell_type": "code",
      "source": [
        ">>> from pathlib import Path  \n",
        ">>> filepath = Path('folder/subfolder/zomatoclean.csv')  \n",
        ">>> filepath.parent.mkdir(parents=True, exist_ok=True)  \n",
        ">>> df.to_csv(filepath,index=False)  "
      ],
      "metadata": {
        "id": "useFO_0XuxID"
      },
      "execution_count": null,
      "outputs": []
    }
  ]
}